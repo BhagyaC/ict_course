{
  "nbformat": 4,
  "nbformat_minor": 0,
  "metadata": {
    "colab": {
      "name": "TF-Fraud.ipynb",
      "provenance": [],
      "authorship_tag": "ABX9TyOfSMmGG2g5xJP8KdiW63tG",
      "include_colab_link": true
    },
    "kernelspec": {
      "name": "python3",
      "display_name": "Python 3"
    },
    "language_info": {
      "name": "python"
    }
  },
  "cells": [
    {
      "cell_type": "markdown",
      "metadata": {
        "id": "view-in-github",
        "colab_type": "text"
      },
      "source": [
        "<a href=\"https://colab.research.google.com/github/BhagyaC/ict_course/blob/master/TF_Fraud.ipynb\" target=\"_parent\"><img src=\"https://colab.research.google.com/assets/colab-badge.svg\" alt=\"Open In Colab\"/></a>"
      ]
    },
    {
      "cell_type": "code",
      "metadata": {
        "id": "MiyEuM7DcfYV"
      },
      "source": [
        "import itertools\n",
        "import numpy as np\n",
        "import pandas as pd\n",
        "import tensorflow as tf\n",
        "import json\n",
        "import matplotlib as mpl\n",
        "import matplotlib.pyplot as plt\n",
        "# import explainable_ai_sdk\n",
        "\n",
        "from sklearn.utils import shuffle\n",
        "from sklearn.metrics import confusion_matrix\n",
        "from sklearn.preprocessing import StandardScaler\n",
        "from tensorflow import keras\n",
        "# from explainable_ai_sdk.metadata.tf.v2 import SavedModelMetadataBuilder"
      ],
      "execution_count": 2,
      "outputs": []
    },
    {
      "cell_type": "code",
      "metadata": {
        "colab": {
          "base_uri": "https://localhost:8080/"
        },
        "id": "fq4mAdWvcuiB",
        "outputId": "3acd15c5-27d6-46eb-ad46-71f2c221c5e1"
      },
      "source": [
        "!gsutil cp gs://financial_fraud_detection/fraud_data_kaggle.csv .\n"
      ],
      "execution_count": 3,
      "outputs": [
        {
          "output_type": "stream",
          "text": [
            "Copying gs://financial_fraud_detection/fraud_data_kaggle.csv...\n",
            "/ [1 files][303.4 MiB/303.4 MiB]                                                \n",
            "Operation completed over 1 objects/303.4 MiB.                                    \n"
          ],
          "name": "stdout"
        }
      ]
    },
    {
      "cell_type": "code",
      "metadata": {
        "colab": {
          "base_uri": "https://localhost:8080/",
          "height": 204
        },
        "id": "zKnJ_MiffHPM",
        "outputId": "aef2d67f-d45e-49d8-ddb3-c7c856ae0a8a"
      },
      "source": [
        "data = pd.read_csv('fraud_data_kaggle.csv')\n",
        "data = data.drop(columns=['type'])\n",
        "data.head()"
      ],
      "execution_count": 4,
      "outputs": [
        {
          "output_type": "execute_result",
          "data": {
            "text/html": [
              "<div>\n",
              "<style scoped>\n",
              "    .dataframe tbody tr th:only-of-type {\n",
              "        vertical-align: middle;\n",
              "    }\n",
              "\n",
              "    .dataframe tbody tr th {\n",
              "        vertical-align: top;\n",
              "    }\n",
              "\n",
              "    .dataframe thead th {\n",
              "        text-align: right;\n",
              "    }\n",
              "</style>\n",
              "<table border=\"1\" class=\"dataframe\">\n",
              "  <thead>\n",
              "    <tr style=\"text-align: right;\">\n",
              "      <th></th>\n",
              "      <th>step</th>\n",
              "      <th>amount</th>\n",
              "      <th>nameOrig</th>\n",
              "      <th>oldbalanceOrg</th>\n",
              "      <th>newbalanceOrig</th>\n",
              "      <th>nameDest</th>\n",
              "      <th>oldbalanceDest</th>\n",
              "      <th>newbalanceDest</th>\n",
              "      <th>isFraud</th>\n",
              "      <th>isFlaggedFraud</th>\n",
              "    </tr>\n",
              "  </thead>\n",
              "  <tbody>\n",
              "    <tr>\n",
              "      <th>0</th>\n",
              "      <td>1</td>\n",
              "      <td>9839.64</td>\n",
              "      <td>C1231006815</td>\n",
              "      <td>170136.0</td>\n",
              "      <td>160296.36</td>\n",
              "      <td>M1979787155</td>\n",
              "      <td>0.0</td>\n",
              "      <td>0.0</td>\n",
              "      <td>0.0</td>\n",
              "      <td>0.0</td>\n",
              "    </tr>\n",
              "    <tr>\n",
              "      <th>1</th>\n",
              "      <td>1</td>\n",
              "      <td>1864.28</td>\n",
              "      <td>C1666544295</td>\n",
              "      <td>21249.0</td>\n",
              "      <td>19384.72</td>\n",
              "      <td>M2044282225</td>\n",
              "      <td>0.0</td>\n",
              "      <td>0.0</td>\n",
              "      <td>0.0</td>\n",
              "      <td>0.0</td>\n",
              "    </tr>\n",
              "    <tr>\n",
              "      <th>2</th>\n",
              "      <td>1</td>\n",
              "      <td>181.00</td>\n",
              "      <td>C1305486145</td>\n",
              "      <td>181.0</td>\n",
              "      <td>0.00</td>\n",
              "      <td>C553264065</td>\n",
              "      <td>0.0</td>\n",
              "      <td>0.0</td>\n",
              "      <td>1.0</td>\n",
              "      <td>0.0</td>\n",
              "    </tr>\n",
              "    <tr>\n",
              "      <th>3</th>\n",
              "      <td>1</td>\n",
              "      <td>181.00</td>\n",
              "      <td>C840083671</td>\n",
              "      <td>181.0</td>\n",
              "      <td>0.00</td>\n",
              "      <td>C38997010</td>\n",
              "      <td>21182.0</td>\n",
              "      <td>0.0</td>\n",
              "      <td>1.0</td>\n",
              "      <td>0.0</td>\n",
              "    </tr>\n",
              "    <tr>\n",
              "      <th>4</th>\n",
              "      <td>1</td>\n",
              "      <td>11668.14</td>\n",
              "      <td>C2048537720</td>\n",
              "      <td>41554.0</td>\n",
              "      <td>29885.86</td>\n",
              "      <td>M1230701703</td>\n",
              "      <td>0.0</td>\n",
              "      <td>0.0</td>\n",
              "      <td>0.0</td>\n",
              "      <td>0.0</td>\n",
              "    </tr>\n",
              "  </tbody>\n",
              "</table>\n",
              "</div>"
            ],
            "text/plain": [
              "   step    amount     nameOrig  ...  newbalanceDest  isFraud isFlaggedFraud\n",
              "0     1   9839.64  C1231006815  ...             0.0      0.0            0.0\n",
              "1     1   1864.28  C1666544295  ...             0.0      0.0            0.0\n",
              "2     1    181.00  C1305486145  ...             0.0      1.0            0.0\n",
              "3     1    181.00   C840083671  ...             0.0      1.0            0.0\n",
              "4     1  11668.14  C2048537720  ...             0.0      0.0            0.0\n",
              "\n",
              "[5 rows x 10 columns]"
            ]
          },
          "metadata": {
            "tags": []
          },
          "execution_count": 4
        }
      ]
    },
    {
      "cell_type": "markdown",
      "metadata": {
        "id": "JmUDL9qEjOQa"
      },
      "source": [
        "After looking to the data we can see the imbalance and hence we need to reduce the ratio of data using downsampling to address the data imbalance ( making the data ratio 1:99 to 25:75 )"
      ]
    },
    {
      "cell_type": "code",
      "metadata": {
        "id": "Mjb0FieIfILz"
      },
      "source": [
        "fraud = data[data['isFraud'] == 1]\n",
        "not_fraud = data[data['isFraud'] == 0]"
      ],
      "execution_count": 5,
      "outputs": []
    },
    {
      "cell_type": "code",
      "metadata": {
        "colab": {
          "base_uri": "https://localhost:8080/"
        },
        "id": "TQlz4tv-iwip",
        "outputId": "54e00b7a-8809-4041-a779-17d486b171f7"
      },
      "source": [
        "print(len(fraud))\n",
        "print(len(not_fraud))"
      ],
      "execution_count": 13,
      "outputs": [
        {
          "output_type": "stream",
          "text": [
            "3411\n",
            "4103092\n"
          ],
          "name": "stdout"
        }
      ]
    },
    {
      "cell_type": "code",
      "metadata": {
        "colab": {
          "base_uri": "https://localhost:8080/",
          "height": 204
        },
        "id": "7M1cYsVsnWHn",
        "outputId": "1cf4f8bc-56fd-4b03-cbe3-fa2fe72bf95d"
      },
      "source": [
        "# Take a random sample of non fraud rows\n",
        "not_fraud_sample = not_fraud.sample(random_state=2, frac=.005)\n",
        "\n",
        "# Put it back together and shuffle\n",
        "df = pd.concat([not_fraud_sample,fraud])\n",
        "df = shuffle(df, random_state=2)\n",
        "\n",
        "# Remove a few columns (isFraud is the label column we'll use, not isFlaggedFraud)\n",
        "df = df.drop(columns=['nameOrig', 'nameDest', 'isFlaggedFraud'])\n",
        "\n",
        "# Preview the updated dataset\n",
        "df.head()"
      ],
      "execution_count": 14,
      "outputs": [
        {
          "output_type": "execute_result",
          "data": {
            "text/html": [
              "<div>\n",
              "<style scoped>\n",
              "    .dataframe tbody tr th:only-of-type {\n",
              "        vertical-align: middle;\n",
              "    }\n",
              "\n",
              "    .dataframe tbody tr th {\n",
              "        vertical-align: top;\n",
              "    }\n",
              "\n",
              "    .dataframe thead th {\n",
              "        text-align: right;\n",
              "    }\n",
              "</style>\n",
              "<table border=\"1\" class=\"dataframe\">\n",
              "  <thead>\n",
              "    <tr style=\"text-align: right;\">\n",
              "      <th></th>\n",
              "      <th>step</th>\n",
              "      <th>amount</th>\n",
              "      <th>oldbalanceOrg</th>\n",
              "      <th>newbalanceOrig</th>\n",
              "      <th>oldbalanceDest</th>\n",
              "      <th>newbalanceDest</th>\n",
              "      <th>isFraud</th>\n",
              "    </tr>\n",
              "  </thead>\n",
              "  <tbody>\n",
              "    <tr>\n",
              "      <th>2880934</th>\n",
              "      <td>228</td>\n",
              "      <td>225995.98</td>\n",
              "      <td>187387.00</td>\n",
              "      <td>0.00</td>\n",
              "      <td>2089592.81</td>\n",
              "      <td>2315588.79</td>\n",
              "      <td>0.0</td>\n",
              "    </tr>\n",
              "    <tr>\n",
              "      <th>2485109</th>\n",
              "      <td>204</td>\n",
              "      <td>6758.80</td>\n",
              "      <td>25491.67</td>\n",
              "      <td>18732.88</td>\n",
              "      <td>0.00</td>\n",
              "      <td>0.00</td>\n",
              "      <td>0.0</td>\n",
              "    </tr>\n",
              "    <tr>\n",
              "      <th>3528108</th>\n",
              "      <td>259</td>\n",
              "      <td>21772.92</td>\n",
              "      <td>26341.00</td>\n",
              "      <td>4568.08</td>\n",
              "      <td>0.00</td>\n",
              "      <td>0.00</td>\n",
              "      <td>0.0</td>\n",
              "    </tr>\n",
              "    <tr>\n",
              "      <th>199110</th>\n",
              "      <td>13</td>\n",
              "      <td>582526.39</td>\n",
              "      <td>0.00</td>\n",
              "      <td>0.00</td>\n",
              "      <td>1110543.49</td>\n",
              "      <td>1693069.89</td>\n",
              "      <td>0.0</td>\n",
              "    </tr>\n",
              "    <tr>\n",
              "      <th>550022</th>\n",
              "      <td>21</td>\n",
              "      <td>93966.17</td>\n",
              "      <td>0.00</td>\n",
              "      <td>0.00</td>\n",
              "      <td>3581536.71</td>\n",
              "      <td>3675502.88</td>\n",
              "      <td>0.0</td>\n",
              "    </tr>\n",
              "  </tbody>\n",
              "</table>\n",
              "</div>"
            ],
            "text/plain": [
              "         step     amount  ...  newbalanceDest  isFraud\n",
              "2880934   228  225995.98  ...      2315588.79      0.0\n",
              "2485109   204    6758.80  ...            0.00      0.0\n",
              "3528108   259   21772.92  ...            0.00      0.0\n",
              "199110     13  582526.39  ...      1693069.89      0.0\n",
              "550022     21   93966.17  ...      3675502.88      0.0\n",
              "\n",
              "[5 rows x 7 columns]"
            ]
          },
          "metadata": {
            "tags": []
          },
          "execution_count": 14
        }
      ]
    },
    {
      "cell_type": "markdown",
      "metadata": {
        "id": "xJUmlNy7nw4O"
      },
      "source": [
        "After addressing the data imbalance split the data into train and test"
      ]
    },
    {
      "cell_type": "code",
      "metadata": {
        "id": "jZt0B3_9nwWg"
      },
      "source": [
        "train_test_split = int(len(df) * .8)\n",
        "\n",
        "train_set = df[:train_test_split]\n",
        "test_set = df[train_test_split:]\n",
        "\n",
        "train_labels = train_set.pop('isFraud')\n",
        "test_labels = test_set.pop('isFraud')"
      ],
      "execution_count": 15,
      "outputs": []
    },
    {
      "cell_type": "markdown",
      "metadata": {
        "id": "0pgZ1CGnpAZC"
      },
      "source": [
        "Data Normalisation"
      ]
    },
    {
      "cell_type": "code",
      "metadata": {
        "id": "SkmhQFHCowNP"
      },
      "source": [
        "scaler = StandardScaler()\n",
        "train_set = scaler.fit_transform(train_set) # Only normalize on the train set\n",
        "test_set = scaler.transform(test_set)\n",
        "\n",
        "# clip() ensures all values fall within the range [-5,5]\n",
        "# useful if any outliers remain after normalizing\n",
        "train_set = np.clip(train_set, -5, 5)\n",
        "test_set = np.clip(test_set, -5, 5)"
      ],
      "execution_count": 18,
      "outputs": []
    },
    {
      "cell_type": "code",
      "metadata": {
        "colab": {
          "base_uri": "https://localhost:8080/"
        },
        "id": "7fYcGHo4oOHW",
        "outputId": "69b9c0e9-ecf2-4dc8-976b-91b0c6d8a139"
      },
      "source": [
        "train_set"
      ],
      "execution_count": 19,
      "outputs": [
        {
          "output_type": "execute_result",
          "data": {
            "text/plain": [
              "array([[ 0.74771568, -0.10558206, -0.24744663, -0.26469104,  0.51385876,\n",
              "         0.48591169],\n",
              "       [ 0.48352495, -0.33128635, -0.30457304, -0.25780596, -0.39568077,\n",
              "        -0.43989138],\n",
              "       [ 1.08896205, -0.31582934, -0.30427334, -0.26301209, -0.39568077,\n",
              "        -0.43989138],\n",
              "       ...,\n",
              "       [-1.63000093, -0.2417149 ,  5.        ,  5.        , -0.32594475,\n",
              "        -0.41332417],\n",
              "       [ 0.50554084, -0.24271814, -0.31319682, -0.26469104, -0.39568077,\n",
              "        -0.40279301],\n",
              "       [-0.43013468, -0.28420772,  2.89581808,  3.09750739, -0.18409246,\n",
              "        -0.26652501]])"
            ]
          },
          "metadata": {
            "tags": []
          },
          "execution_count": 19
        }
      ]
    },
    {
      "cell_type": "code",
      "metadata": {
        "id": "XHl_Sm7po1Gr"
      },
      "source": [
        "scaler = StandardScaler()\n",
        "weight_for_non_fraud = 1.0 / df['isFraud'].value_counts()[0]\n",
        "weight_for_fraud = 1.0 / df['isFraud'].value_counts()[1]\n",
        "\n",
        "class_weight = {0: weight_for_non_fraud, 1: weight_for_fraud}"
      ],
      "execution_count": 21,
      "outputs": []
    },
    {
      "cell_type": "code",
      "metadata": {
        "id": "-AKhEKmCq0do"
      },
      "source": [
        "METRICS = [\n",
        "      keras.metrics.TruePositives(name='tp'),\n",
        "      keras.metrics.FalsePositives(name='fp'),\n",
        "      keras.metrics.TrueNegatives(name='tn'),\n",
        "      keras.metrics.FalseNegatives(name='fn'), \n",
        "      keras.metrics.BinaryAccuracy(name='accuracy'),\n",
        "      keras.metrics.Precision(name='precision'),\n",
        "      keras.metrics.Recall(name='recall'),\n",
        "      keras.metrics.AUC(name='auc'),\n",
        "]\n",
        "\n",
        "def make_model(metrics = METRICS):\n",
        "  model = keras.Sequential([\n",
        "      keras.layers.Dense(\n",
        "          16, activation='relu',\n",
        "          input_shape=(train_set.shape[-1],)),\n",
        "      keras.layers.Dropout(0.5),\n",
        "      keras.layers.Dense(1, activation='sigmoid'),\n",
        "  ])\n",
        "\n",
        "  model.compile(\n",
        "      optimizer=keras.optimizers.Adam(lr=1e-3),\n",
        "      loss=keras.losses.BinaryCrossentropy(),\n",
        "      metrics=metrics)\n",
        "\n",
        "  return model"
      ],
      "execution_count": 22,
      "outputs": []
    },
    {
      "cell_type": "markdown",
      "metadata": {
        "id": "4fPDmfr_q7U6"
      },
      "source": [
        "The following are some global variables and stopping parameters"
      ]
    },
    {
      "cell_type": "code",
      "metadata": {
        "id": "OXy7Xd4Pq6aA"
      },
      "source": [
        "EPOCHS = 100\n",
        "BATCH_SIZE = 512\n",
        "\n",
        "early_stopping = tf.keras.callbacks.EarlyStopping(\n",
        "    monitor='val_auc', \n",
        "    verbose=1,\n",
        "    patience=10,\n",
        "    mode='max',\n",
        "    restore_best_weights=True)"
      ],
      "execution_count": 24,
      "outputs": []
    },
    {
      "cell_type": "code",
      "metadata": {
        "colab": {
          "base_uri": "https://localhost:8080/"
        },
        "id": "dfrBbvbvrJcu",
        "outputId": "36bbb08e-dfc7-4e0c-a7b8-367079b418e1"
      },
      "source": [
        "model = make_model()\n",
        "model.summary()"
      ],
      "execution_count": 25,
      "outputs": [
        {
          "output_type": "stream",
          "text": [
            "Model: \"sequential\"\n",
            "_________________________________________________________________\n",
            "Layer (type)                 Output Shape              Param #   \n",
            "=================================================================\n",
            "dense (Dense)                (None, 16)                112       \n",
            "_________________________________________________________________\n",
            "dropout (Dropout)            (None, 16)                0         \n",
            "_________________________________________________________________\n",
            "dense_1 (Dense)              (None, 1)                 17        \n",
            "=================================================================\n",
            "Total params: 129\n",
            "Trainable params: 129\n",
            "Non-trainable params: 0\n",
            "_________________________________________________________________\n"
          ],
          "name": "stdout"
        }
      ]
    },
    {
      "cell_type": "code",
      "metadata": {
        "colab": {
          "base_uri": "https://localhost:8080/"
        },
        "id": "lIVoybUrrJ2-",
        "outputId": "1461079c-130d-4124-d495-ed6746e29d08"
      },
      "source": [
        "results = model.fit(\n",
        "    train_set,\n",
        "    train_labels,\n",
        "    batch_size=BATCH_SIZE,\n",
        "    epochs=EPOCHS,\n",
        "    callbacks = [early_stopping],\n",
        "    validation_data=(test_set, test_labels),\n",
        "    class_weight=class_weight)"
      ],
      "execution_count": 26,
      "outputs": [
        {
          "output_type": "stream",
          "text": [
            "Epoch 1/100\n",
            "38/38 [==============================] - 3s 30ms/step - loss: 7.1009e-05 - tp: 1037.6410 - fp: 6797.9744 - tn: 1957.0769 - fn: 417.9744 - accuracy: 0.2918 - precision: 0.1333 - recall: 0.7164 - auc: 0.4480 - val_loss: 0.9121 - val_tp: 639.0000 - val_fp: 4002.0000 - val_tn: 82.0000 - val_fn: 63.0000 - val_accuracy: 0.1506 - val_precision: 0.1377 - val_recall: 0.9103 - val_auc: 0.4711\n",
            "Epoch 2/100\n",
            "38/38 [==============================] - 0s 6ms/step - loss: 6.6437e-05 - tp: 1009.0513 - fp: 6240.9231 - tn: 2508.6667 - fn: 452.0256 - accuracy: 0.3388 - precision: 0.1394 - recall: 0.6888 - auc: 0.4815 - val_loss: 0.8209 - val_tp: 554.0000 - val_fp: 3328.0000 - val_tn: 756.0000 - val_fn: 148.0000 - val_accuracy: 0.2737 - val_precision: 0.1427 - val_recall: 0.7892 - val_auc: 0.5567\n",
            "Epoch 3/100\n",
            "38/38 [==============================] - 0s 6ms/step - loss: 6.0958e-05 - tp: 954.7692 - fp: 5241.6923 - tn: 3534.0256 - fn: 480.1795 - accuracy: 0.4311 - precision: 0.1528 - recall: 0.6692 - auc: 0.5396 - val_loss: 0.7502 - val_tp: 465.0000 - val_fp: 1757.0000 - val_tn: 2327.0000 - val_fn: 237.0000 - val_accuracy: 0.5834 - val_precision: 0.2093 - val_recall: 0.6624 - val_auc: 0.6358\n",
            "Epoch 4/100\n",
            "38/38 [==============================] - 0s 6ms/step - loss: 5.6964e-05 - tp: 948.5897 - fp: 4329.2821 - tn: 4431.7692 - fn: 501.0256 - accuracy: 0.5178 - precision: 0.1781 - recall: 0.6602 - auc: 0.6164 - val_loss: 0.6921 - val_tp: 448.0000 - val_fp: 1553.0000 - val_tn: 2531.0000 - val_fn: 254.0000 - val_accuracy: 0.6224 - val_precision: 0.2239 - val_recall: 0.6382 - val_auc: 0.6968\n",
            "Epoch 5/100\n",
            "38/38 [==============================] - 0s 6ms/step - loss: 5.5748e-05 - tp: 899.1795 - fp: 3683.3077 - tn: 5078.7949 - fn: 549.3846 - accuracy: 0.5786 - precision: 0.1939 - recall: 0.6197 - auc: 0.6346 - val_loss: 0.6498 - val_tp: 439.0000 - val_fp: 1313.0000 - val_tn: 2771.0000 - val_fn: 263.0000 - val_accuracy: 0.6707 - val_precision: 0.2506 - val_recall: 0.6254 - val_auc: 0.7359\n",
            "Epoch 6/100\n",
            "38/38 [==============================] - 0s 6ms/step - loss: 5.3423e-05 - tp: 888.2821 - fp: 3071.4103 - tn: 5682.9487 - fn: 568.0256 - accuracy: 0.6372 - precision: 0.2245 - recall: 0.6088 - auc: 0.6787 - val_loss: 0.6197 - val_tp: 423.0000 - val_fp: 1091.0000 - val_tn: 2993.0000 - val_fn: 279.0000 - val_accuracy: 0.7137 - val_precision: 0.2794 - val_recall: 0.6026 - val_auc: 0.7594\n",
            "Epoch 7/100\n",
            "38/38 [==============================] - 0s 6ms/step - loss: 5.1491e-05 - tp: 879.6923 - fp: 2596.6154 - tn: 6168.6154 - fn: 565.7436 - accuracy: 0.6883 - precision: 0.2531 - recall: 0.6123 - auc: 0.7092 - val_loss: 0.5946 - val_tp: 427.0000 - val_fp: 984.0000 - val_tn: 3100.0000 - val_fn: 275.0000 - val_accuracy: 0.7369 - val_precision: 0.3026 - val_recall: 0.6083 - val_auc: 0.7714\n",
            "Epoch 8/100\n",
            "38/38 [==============================] - 0s 5ms/step - loss: 4.9793e-05 - tp: 853.3333 - fp: 2277.4359 - tn: 6510.0513 - fn: 569.8462 - accuracy: 0.7188 - precision: 0.2662 - recall: 0.5964 - auc: 0.7228 - val_loss: 0.5760 - val_tp: 422.0000 - val_fp: 876.0000 - val_tn: 3208.0000 - val_fn: 280.0000 - val_accuracy: 0.7585 - val_precision: 0.3251 - val_recall: 0.6011 - val_auc: 0.7825\n",
            "Epoch 9/100\n",
            "38/38 [==============================] - 0s 5ms/step - loss: 4.9929e-05 - tp: 840.6923 - fp: 2073.5897 - tn: 6689.4103 - fn: 606.9744 - accuracy: 0.7323 - precision: 0.2819 - recall: 0.5712 - auc: 0.7251 - val_loss: 0.5619 - val_tp: 407.0000 - val_fp: 464.0000 - val_tn: 3620.0000 - val_fn: 295.0000 - val_accuracy: 0.8414 - val_precision: 0.4673 - val_recall: 0.5798 - val_auc: 0.7917\n",
            "Epoch 10/100\n",
            "38/38 [==============================] - 0s 5ms/step - loss: 4.7821e-05 - tp: 844.4615 - fp: 1790.0000 - tn: 6991.4103 - fn: 584.7949 - accuracy: 0.7667 - precision: 0.3180 - recall: 0.5908 - auc: 0.7508 - val_loss: 0.5495 - val_tp: 400.0000 - val_fp: 323.0000 - val_tn: 3761.0000 - val_fn: 302.0000 - val_accuracy: 0.8694 - val_precision: 0.5533 - val_recall: 0.5698 - val_auc: 0.7999\n",
            "Epoch 11/100\n",
            "38/38 [==============================] - 0s 6ms/step - loss: 4.7857e-05 - tp: 853.4615 - fp: 1663.7692 - tn: 7104.6923 - fn: 588.7436 - accuracy: 0.7748 - precision: 0.3290 - recall: 0.5785 - auc: 0.7535 - val_loss: 0.5423 - val_tp: 402.0000 - val_fp: 315.0000 - val_tn: 3769.0000 - val_fn: 300.0000 - val_accuracy: 0.8715 - val_precision: 0.5607 - val_recall: 0.5726 - val_auc: 0.8080\n",
            "Epoch 12/100\n",
            "38/38 [==============================] - 0s 6ms/step - loss: 4.7782e-05 - tp: 840.2308 - fp: 1521.7436 - tn: 7236.3590 - fn: 612.3333 - accuracy: 0.7886 - precision: 0.3535 - recall: 0.5776 - auc: 0.7619 - val_loss: 0.5319 - val_tp: 403.0000 - val_fp: 302.0000 - val_tn: 3782.0000 - val_fn: 299.0000 - val_accuracy: 0.8744 - val_precision: 0.5716 - val_recall: 0.5741 - val_auc: 0.8143\n",
            "Epoch 13/100\n",
            "38/38 [==============================] - 0s 6ms/step - loss: 4.6247e-05 - tp: 843.7692 - fp: 1350.9744 - tn: 7427.0000 - fn: 588.9231 - accuracy: 0.8104 - precision: 0.3830 - recall: 0.5875 - auc: 0.7781 - val_loss: 0.5228 - val_tp: 402.0000 - val_fp: 299.0000 - val_tn: 3785.0000 - val_fn: 300.0000 - val_accuracy: 0.8748 - val_precision: 0.5735 - val_recall: 0.5726 - val_auc: 0.8202\n",
            "Epoch 14/100\n",
            "38/38 [==============================] - 0s 6ms/step - loss: 4.5961e-05 - tp: 844.6667 - fp: 1289.4103 - tn: 7475.3077 - fn: 601.2821 - accuracy: 0.8132 - precision: 0.3923 - recall: 0.5826 - auc: 0.7803 - val_loss: 0.5167 - val_tp: 402.0000 - val_fp: 300.0000 - val_tn: 3784.0000 - val_fn: 300.0000 - val_accuracy: 0.8746 - val_precision: 0.5726 - val_recall: 0.5726 - val_auc: 0.8237\n",
            "Epoch 15/100\n",
            "38/38 [==============================] - 0s 5ms/step - loss: 4.5436e-05 - tp: 880.1795 - fp: 1127.1026 - tn: 7631.6923 - fn: 571.6923 - accuracy: 0.8359 - precision: 0.4440 - recall: 0.6114 - auc: 0.7962 - val_loss: 0.5121 - val_tp: 406.0000 - val_fp: 304.0000 - val_tn: 3780.0000 - val_fn: 296.0000 - val_accuracy: 0.8746 - val_precision: 0.5718 - val_recall: 0.5783 - val_auc: 0.8283\n",
            "Epoch 16/100\n",
            "38/38 [==============================] - 0s 6ms/step - loss: 4.5178e-05 - tp: 863.3333 - fp: 1068.1795 - tn: 7694.4359 - fn: 584.7179 - accuracy: 0.8351 - precision: 0.4455 - recall: 0.6010 - auc: 0.7914 - val_loss: 0.5025 - val_tp: 406.0000 - val_fp: 283.0000 - val_tn: 3801.0000 - val_fn: 296.0000 - val_accuracy: 0.8790 - val_precision: 0.5893 - val_recall: 0.5783 - val_auc: 0.8312\n",
            "Epoch 17/100\n",
            "38/38 [==============================] - 0s 6ms/step - loss: 4.4809e-05 - tp: 864.0000 - fp: 978.3590 - tn: 7783.5897 - fn: 584.7179 - accuracy: 0.8455 - precision: 0.4667 - recall: 0.5887 - auc: 0.7956 - val_loss: 0.5010 - val_tp: 408.0000 - val_fp: 294.0000 - val_tn: 3790.0000 - val_fn: 294.0000 - val_accuracy: 0.8771 - val_precision: 0.5812 - val_recall: 0.5812 - val_auc: 0.8341\n",
            "Epoch 18/100\n",
            "38/38 [==============================] - 0s 5ms/step - loss: 4.4895e-05 - tp: 848.1026 - fp: 916.5641 - tn: 7853.0000 - fn: 593.0000 - accuracy: 0.8499 - precision: 0.4790 - recall: 0.5875 - auc: 0.7972 - val_loss: 0.4934 - val_tp: 406.0000 - val_fp: 284.0000 - val_tn: 3800.0000 - val_fn: 296.0000 - val_accuracy: 0.8788 - val_precision: 0.5884 - val_recall: 0.5783 - val_auc: 0.8369\n",
            "Epoch 19/100\n",
            "38/38 [==============================] - 0s 6ms/step - loss: 4.4148e-05 - tp: 846.4359 - fp: 853.6667 - tn: 7909.5128 - fn: 601.0513 - accuracy: 0.8565 - precision: 0.4921 - recall: 0.5806 - auc: 0.8024 - val_loss: 0.4929 - val_tp: 412.0000 - val_fp: 305.0000 - val_tn: 3779.0000 - val_fn: 290.0000 - val_accuracy: 0.8757 - val_precision: 0.5746 - val_recall: 0.5869 - val_auc: 0.8382\n",
            "Epoch 20/100\n",
            "38/38 [==============================] - 0s 6ms/step - loss: 4.4195e-05 - tp: 866.4103 - fp: 854.1282 - tn: 7890.4615 - fn: 599.6667 - accuracy: 0.8556 - precision: 0.5012 - recall: 0.5888 - auc: 0.8043 - val_loss: 0.4891 - val_tp: 416.0000 - val_fp: 305.0000 - val_tn: 3779.0000 - val_fn: 286.0000 - val_accuracy: 0.8765 - val_precision: 0.5770 - val_recall: 0.5926 - val_auc: 0.8401\n",
            "Epoch 21/100\n",
            "38/38 [==============================] - 0s 6ms/step - loss: 4.3028e-05 - tp: 845.1538 - fp: 825.7949 - tn: 7947.6667 - fn: 592.0513 - accuracy: 0.8620 - precision: 0.5092 - recall: 0.5944 - auc: 0.8152 - val_loss: 0.4873 - val_tp: 421.0000 - val_fp: 312.0000 - val_tn: 3772.0000 - val_fn: 281.0000 - val_accuracy: 0.8761 - val_precision: 0.5744 - val_recall: 0.5997 - val_auc: 0.8424\n",
            "Epoch 22/100\n",
            "38/38 [==============================] - 0s 5ms/step - loss: 4.3287e-05 - tp: 882.7436 - fp: 853.7179 - tn: 7894.5385 - fn: 579.6667 - accuracy: 0.8599 - precision: 0.5146 - recall: 0.6036 - auc: 0.8192 - val_loss: 0.4813 - val_tp: 417.0000 - val_fp: 308.0000 - val_tn: 3776.0000 - val_fn: 285.0000 - val_accuracy: 0.8761 - val_precision: 0.5752 - val_recall: 0.5940 - val_auc: 0.8439\n",
            "Epoch 23/100\n",
            "38/38 [==============================] - 0s 5ms/step - loss: 4.2629e-05 - tp: 851.2821 - fp: 786.7436 - tn: 7994.0256 - fn: 578.6154 - accuracy: 0.8656 - precision: 0.5200 - recall: 0.6001 - auc: 0.8206 - val_loss: 0.4798 - val_tp: 422.0000 - val_fp: 317.0000 - val_tn: 3767.0000 - val_fn: 280.0000 - val_accuracy: 0.8753 - val_precision: 0.5710 - val_recall: 0.6011 - val_auc: 0.8459\n",
            "Epoch 24/100\n",
            "38/38 [==============================] - 0s 5ms/step - loss: 4.2475e-05 - tp: 870.8205 - fp: 787.6667 - tn: 7975.0000 - fn: 577.1795 - accuracy: 0.8674 - precision: 0.5291 - recall: 0.6063 - auc: 0.8260 - val_loss: 0.4753 - val_tp: 423.0000 - val_fp: 318.0000 - val_tn: 3766.0000 - val_fn: 279.0000 - val_accuracy: 0.8753 - val_precision: 0.5709 - val_recall: 0.6026 - val_auc: 0.8471\n",
            "Epoch 25/100\n",
            "38/38 [==============================] - 0s 6ms/step - loss: 4.2521e-05 - tp: 859.1282 - fp: 795.9231 - tn: 7979.1026 - fn: 576.5128 - accuracy: 0.8647 - precision: 0.5154 - recall: 0.5882 - auc: 0.8161 - val_loss: 0.4697 - val_tp: 422.0000 - val_fp: 314.0000 - val_tn: 3770.0000 - val_fn: 280.0000 - val_accuracy: 0.8759 - val_precision: 0.5734 - val_recall: 0.6011 - val_auc: 0.8477\n",
            "Epoch 26/100\n",
            "38/38 [==============================] - 0s 6ms/step - loss: 4.2321e-05 - tp: 879.1795 - fp: 805.7949 - tn: 7955.9231 - fn: 569.7692 - accuracy: 0.8661 - precision: 0.5300 - recall: 0.6030 - auc: 0.8340 - val_loss: 0.4662 - val_tp: 423.0000 - val_fp: 313.0000 - val_tn: 3771.0000 - val_fn: 279.0000 - val_accuracy: 0.8763 - val_precision: 0.5747 - val_recall: 0.6026 - val_auc: 0.8487\n",
            "Epoch 27/100\n",
            "38/38 [==============================] - 0s 5ms/step - loss: 4.1212e-05 - tp: 878.2564 - fp: 760.0513 - tn: 8010.8718 - fn: 561.4872 - accuracy: 0.8708 - precision: 0.5380 - recall: 0.6175 - auc: 0.8356 - val_loss: 0.4642 - val_tp: 428.0000 - val_fp: 313.0000 - val_tn: 3771.0000 - val_fn: 274.0000 - val_accuracy: 0.8774 - val_precision: 0.5776 - val_recall: 0.6097 - val_auc: 0.8507\n",
            "Epoch 28/100\n",
            "38/38 [==============================] - 0s 6ms/step - loss: 4.1184e-05 - tp: 901.9487 - fp: 755.6154 - tn: 7999.0256 - fn: 554.0769 - accuracy: 0.8735 - precision: 0.5532 - recall: 0.6271 - auc: 0.8371 - val_loss: 0.4643 - val_tp: 431.0000 - val_fp: 317.0000 - val_tn: 3767.0000 - val_fn: 271.0000 - val_accuracy: 0.8771 - val_precision: 0.5762 - val_recall: 0.6140 - val_auc: 0.8520\n",
            "Epoch 29/100\n",
            "38/38 [==============================] - 0s 6ms/step - loss: 4.1743e-05 - tp: 871.7179 - fp: 798.1538 - tn: 7974.5641 - fn: 566.2308 - accuracy: 0.8662 - precision: 0.5210 - recall: 0.6043 - auc: 0.8251 - val_loss: 0.4605 - val_tp: 429.0000 - val_fp: 304.0000 - val_tn: 3780.0000 - val_fn: 273.0000 - val_accuracy: 0.8794 - val_precision: 0.5853 - val_recall: 0.6111 - val_auc: 0.8547\n",
            "Epoch 30/100\n",
            "38/38 [==============================] - 0s 6ms/step - loss: 4.1036e-05 - tp: 896.2821 - fp: 749.1795 - tn: 8010.2308 - fn: 554.9744 - accuracy: 0.8717 - precision: 0.5462 - recall: 0.6182 - auc: 0.8432 - val_loss: 0.4594 - val_tp: 432.0000 - val_fp: 317.0000 - val_tn: 3767.0000 - val_fn: 270.0000 - val_accuracy: 0.8774 - val_precision: 0.5768 - val_recall: 0.6154 - val_auc: 0.8542\n",
            "Epoch 31/100\n",
            "38/38 [==============================] - 0s 5ms/step - loss: 4.1089e-05 - tp: 909.7179 - fp: 739.9744 - tn: 8005.5641 - fn: 555.4103 - accuracy: 0.8738 - precision: 0.5606 - recall: 0.6244 - auc: 0.8423 - val_loss: 0.4568 - val_tp: 432.0000 - val_fp: 311.0000 - val_tn: 3773.0000 - val_fn: 270.0000 - val_accuracy: 0.8786 - val_precision: 0.5814 - val_recall: 0.6154 - val_auc: 0.8560\n",
            "Epoch 32/100\n",
            "38/38 [==============================] - 0s 6ms/step - loss: 4.1236e-05 - tp: 879.6923 - fp: 777.2564 - tn: 7985.5641 - fn: 568.1538 - accuracy: 0.8671 - precision: 0.5280 - recall: 0.6055 - auc: 0.8306 - val_loss: 0.4559 - val_tp: 432.0000 - val_fp: 306.0000 - val_tn: 3778.0000 - val_fn: 270.0000 - val_accuracy: 0.8796 - val_precision: 0.5854 - val_recall: 0.6154 - val_auc: 0.8582\n",
            "Epoch 33/100\n",
            "38/38 [==============================] - 0s 5ms/step - loss: 4.0846e-05 - tp: 895.3590 - fp: 744.6923 - tn: 8019.0000 - fn: 551.6154 - accuracy: 0.8731 - precision: 0.5510 - recall: 0.6218 - auc: 0.8379 - val_loss: 0.4551 - val_tp: 433.0000 - val_fp: 307.0000 - val_tn: 3777.0000 - val_fn: 269.0000 - val_accuracy: 0.8796 - val_precision: 0.5851 - val_recall: 0.6168 - val_auc: 0.8597\n",
            "Epoch 34/100\n",
            "38/38 [==============================] - 0s 6ms/step - loss: 4.0428e-05 - tp: 873.7692 - fp: 716.3333 - tn: 8056.0513 - fn: 564.5128 - accuracy: 0.8741 - precision: 0.5488 - recall: 0.6083 - auc: 0.8326 - val_loss: 0.4514 - val_tp: 433.0000 - val_fp: 305.0000 - val_tn: 3779.0000 - val_fn: 269.0000 - val_accuracy: 0.8801 - val_precision: 0.5867 - val_recall: 0.6168 - val_auc: 0.8602\n",
            "Epoch 35/100\n",
            "38/38 [==============================] - 0s 6ms/step - loss: 3.9763e-05 - tp: 887.7692 - fp: 714.8718 - tn: 8063.4872 - fn: 544.5385 - accuracy: 0.8774 - precision: 0.5558 - recall: 0.6268 - auc: 0.8482 - val_loss: 0.4507 - val_tp: 435.0000 - val_fp: 307.0000 - val_tn: 3777.0000 - val_fn: 267.0000 - val_accuracy: 0.8801 - val_precision: 0.5863 - val_recall: 0.6197 - val_auc: 0.8619\n",
            "Epoch 36/100\n",
            "38/38 [==============================] - 0s 6ms/step - loss: 4.0159e-05 - tp: 899.0256 - fp: 707.3846 - tn: 8057.7179 - fn: 546.5385 - accuracy: 0.8764 - precision: 0.5579 - recall: 0.6180 - auc: 0.8433 - val_loss: 0.4497 - val_tp: 435.0000 - val_fp: 307.0000 - val_tn: 3777.0000 - val_fn: 267.0000 - val_accuracy: 0.8801 - val_precision: 0.5863 - val_recall: 0.6197 - val_auc: 0.8642\n",
            "Epoch 37/100\n",
            "38/38 [==============================] - 0s 5ms/step - loss: 3.9542e-05 - tp: 895.3333 - fp: 741.8462 - tn: 8041.1538 - fn: 532.3333 - accuracy: 0.8754 - precision: 0.5430 - recall: 0.6263 - auc: 0.8485 - val_loss: 0.4431 - val_tp: 433.0000 - val_fp: 295.0000 - val_tn: 3789.0000 - val_fn: 269.0000 - val_accuracy: 0.8822 - val_precision: 0.5948 - val_recall: 0.6168 - val_auc: 0.8652\n",
            "Epoch 38/100\n",
            "38/38 [==============================] - 0s 6ms/step - loss: 3.9353e-05 - tp: 914.7949 - fp: 671.2821 - tn: 8097.4359 - fn: 527.1538 - accuracy: 0.8841 - precision: 0.5825 - recall: 0.6474 - auc: 0.8539 - val_loss: 0.4443 - val_tp: 433.0000 - val_fp: 293.0000 - val_tn: 3791.0000 - val_fn: 269.0000 - val_accuracy: 0.8826 - val_precision: 0.5964 - val_recall: 0.6168 - val_auc: 0.8666\n",
            "Epoch 39/100\n",
            "38/38 [==============================] - 0s 6ms/step - loss: 3.9335e-05 - tp: 883.6410 - fp: 681.7436 - tn: 8099.5641 - fn: 545.7179 - accuracy: 0.8788 - precision: 0.5581 - recall: 0.6166 - auc: 0.8528 - val_loss: 0.4389 - val_tp: 432.0000 - val_fp: 285.0000 - val_tn: 3799.0000 - val_fn: 270.0000 - val_accuracy: 0.8840 - val_precision: 0.6025 - val_recall: 0.6154 - val_auc: 0.8683\n",
            "Epoch 40/100\n",
            "38/38 [==============================] - 0s 6ms/step - loss: 4.0925e-05 - tp: 877.3333 - fp: 697.6923 - tn: 8061.8462 - fn: 573.7949 - accuracy: 0.8730 - precision: 0.5543 - recall: 0.5928 - auc: 0.8377 - val_loss: 0.4398 - val_tp: 432.0000 - val_fp: 285.0000 - val_tn: 3799.0000 - val_fn: 270.0000 - val_accuracy: 0.8840 - val_precision: 0.6025 - val_recall: 0.6154 - val_auc: 0.8705\n",
            "Epoch 41/100\n",
            "38/38 [==============================] - 0s 6ms/step - loss: 3.9214e-05 - tp: 905.7179 - fp: 657.1026 - tn: 8106.0769 - fn: 541.7692 - accuracy: 0.8844 - precision: 0.5893 - recall: 0.6260 - auc: 0.8502 - val_loss: 0.4340 - val_tp: 430.0000 - val_fp: 273.0000 - val_tn: 3811.0000 - val_fn: 272.0000 - val_accuracy: 0.8861 - val_precision: 0.6117 - val_recall: 0.6125 - val_auc: 0.8712\n",
            "Epoch 42/100\n",
            "38/38 [==============================] - 0s 7ms/step - loss: 3.9204e-05 - tp: 906.4359 - fp: 681.2308 - tn: 8080.6410 - fn: 542.3590 - accuracy: 0.8803 - precision: 0.5708 - recall: 0.6262 - auc: 0.8548 - val_loss: 0.4407 - val_tp: 444.0000 - val_fp: 293.0000 - val_tn: 3791.0000 - val_fn: 258.0000 - val_accuracy: 0.8849 - val_precision: 0.6024 - val_recall: 0.6325 - val_auc: 0.8707\n",
            "Epoch 43/100\n",
            "38/38 [==============================] - 0s 7ms/step - loss: 3.8697e-05 - tp: 913.5641 - fp: 668.6154 - tn: 8089.2308 - fn: 539.2564 - accuracy: 0.8839 - precision: 0.5825 - recall: 0.6363 - auc: 0.8586 - val_loss: 0.4333 - val_tp: 437.0000 - val_fp: 275.0000 - val_tn: 3809.0000 - val_fn: 265.0000 - val_accuracy: 0.8872 - val_precision: 0.6138 - val_recall: 0.6225 - val_auc: 0.8725\n",
            "Epoch 44/100\n",
            "38/38 [==============================] - 0s 6ms/step - loss: 3.9193e-05 - tp: 917.4103 - fp: 628.6923 - tn: 8127.5641 - fn: 537.0000 - accuracy: 0.8853 - precision: 0.5914 - recall: 0.6285 - auc: 0.8528 - val_loss: 0.4339 - val_tp: 443.0000 - val_fp: 283.0000 - val_tn: 3801.0000 - val_fn: 259.0000 - val_accuracy: 0.8868 - val_precision: 0.6102 - val_recall: 0.6311 - val_auc: 0.8721\n",
            "Epoch 45/100\n",
            "38/38 [==============================] - 0s 6ms/step - loss: 3.9001e-05 - tp: 899.4359 - fp: 639.5641 - tn: 8127.2821 - fn: 544.3846 - accuracy: 0.8827 - precision: 0.5805 - recall: 0.6219 - auc: 0.8564 - val_loss: 0.4272 - val_tp: 437.0000 - val_fp: 266.0000 - val_tn: 3818.0000 - val_fn: 265.0000 - val_accuracy: 0.8891 - val_precision: 0.6216 - val_recall: 0.6225 - val_auc: 0.8744\n",
            "Epoch 46/100\n",
            "38/38 [==============================] - 0s 7ms/step - loss: 3.9424e-05 - tp: 912.0769 - fp: 625.1282 - tn: 8130.7692 - fn: 542.6923 - accuracy: 0.8857 - precision: 0.5964 - recall: 0.6262 - auc: 0.8537 - val_loss: 0.4295 - val_tp: 442.0000 - val_fp: 269.0000 - val_tn: 3815.0000 - val_fn: 260.0000 - val_accuracy: 0.8895 - val_precision: 0.6217 - val_recall: 0.6296 - val_auc: 0.8753\n",
            "Epoch 47/100\n",
            "38/38 [==============================] - 0s 7ms/step - loss: 3.8827e-05 - tp: 894.1282 - fp: 601.5385 - tn: 8175.9744 - fn: 539.0256 - accuracy: 0.8887 - precision: 0.5996 - recall: 0.6215 - auc: 0.8548 - val_loss: 0.4284 - val_tp: 443.0000 - val_fp: 269.0000 - val_tn: 3815.0000 - val_fn: 259.0000 - val_accuracy: 0.8897 - val_precision: 0.6222 - val_recall: 0.6311 - val_auc: 0.8770\n",
            "Epoch 48/100\n",
            "38/38 [==============================] - 0s 7ms/step - loss: 3.8691e-05 - tp: 901.1026 - fp: 626.7692 - tn: 8136.6410 - fn: 546.1538 - accuracy: 0.8829 - precision: 0.5810 - recall: 0.6182 - auc: 0.8580 - val_loss: 0.4268 - val_tp: 443.0000 - val_fp: 262.0000 - val_tn: 3822.0000 - val_fn: 259.0000 - val_accuracy: 0.8911 - val_precision: 0.6284 - val_recall: 0.6311 - val_auc: 0.8785\n",
            "Epoch 49/100\n",
            "38/38 [==============================] - 0s 7ms/step - loss: 3.7743e-05 - tp: 932.1538 - fp: 586.0769 - tn: 8178.0769 - fn: 514.3590 - accuracy: 0.8932 - precision: 0.6172 - recall: 0.6473 - auc: 0.8650 - val_loss: 0.4282 - val_tp: 447.0000 - val_fp: 271.0000 - val_tn: 3813.0000 - val_fn: 255.0000 - val_accuracy: 0.8901 - val_precision: 0.6226 - val_recall: 0.6368 - val_auc: 0.8780\n",
            "Epoch 50/100\n",
            "38/38 [==============================] - 0s 7ms/step - loss: 3.8288e-05 - tp: 900.4359 - fp: 624.1795 - tn: 8155.8974 - fn: 530.1538 - accuracy: 0.8858 - precision: 0.5848 - recall: 0.6248 - auc: 0.8582 - val_loss: 0.4242 - val_tp: 445.0000 - val_fp: 266.0000 - val_tn: 3818.0000 - val_fn: 257.0000 - val_accuracy: 0.8907 - val_precision: 0.6259 - val_recall: 0.6339 - val_auc: 0.8782\n",
            "Epoch 51/100\n",
            "38/38 [==============================] - 0s 7ms/step - loss: 3.8678e-05 - tp: 896.7949 - fp: 612.4103 - tn: 8160.6410 - fn: 540.8205 - accuracy: 0.8850 - precision: 0.5830 - recall: 0.6180 - auc: 0.8560 - val_loss: 0.4211 - val_tp: 443.0000 - val_fp: 260.0000 - val_tn: 3824.0000 - val_fn: 259.0000 - val_accuracy: 0.8916 - val_precision: 0.6302 - val_recall: 0.6311 - val_auc: 0.8808\n",
            "Epoch 52/100\n",
            "38/38 [==============================] - 0s 6ms/step - loss: 3.7343e-05 - tp: 922.6923 - fp: 566.3077 - tn: 8208.3077 - fn: 513.3590 - accuracy: 0.8962 - precision: 0.6222 - recall: 0.6488 - auc: 0.8632 - val_loss: 0.4259 - val_tp: 450.0000 - val_fp: 269.0000 - val_tn: 3815.0000 - val_fn: 252.0000 - val_accuracy: 0.8911 - val_precision: 0.6259 - val_recall: 0.6410 - val_auc: 0.8813\n",
            "Epoch 53/100\n",
            "38/38 [==============================] - 0s 7ms/step - loss: 3.7663e-05 - tp: 914.1538 - fp: 613.5897 - tn: 8164.4615 - fn: 518.4615 - accuracy: 0.8897 - precision: 0.5995 - recall: 0.6334 - auc: 0.8662 - val_loss: 0.4226 - val_tp: 448.0000 - val_fp: 265.0000 - val_tn: 3819.0000 - val_fn: 254.0000 - val_accuracy: 0.8916 - val_precision: 0.6283 - val_recall: 0.6382 - val_auc: 0.8821\n",
            "Epoch 54/100\n",
            "38/38 [==============================] - 0s 7ms/step - loss: 3.8366e-05 - tp: 935.8205 - fp: 637.9744 - tn: 8116.7949 - fn: 520.0769 - accuracy: 0.8868 - precision: 0.6035 - recall: 0.6382 - auc: 0.8639 - val_loss: 0.4170 - val_tp: 448.0000 - val_fp: 258.0000 - val_tn: 3826.0000 - val_fn: 254.0000 - val_accuracy: 0.8930 - val_precision: 0.6346 - val_recall: 0.6382 - val_auc: 0.8825\n",
            "Epoch 55/100\n",
            "38/38 [==============================] - 0s 8ms/step - loss: 3.8105e-05 - tp: 910.8974 - fp: 575.2564 - tn: 8193.0000 - fn: 531.5128 - accuracy: 0.8911 - precision: 0.6095 - recall: 0.6297 - auc: 0.8641 - val_loss: 0.4183 - val_tp: 450.0000 - val_fp: 258.0000 - val_tn: 3826.0000 - val_fn: 252.0000 - val_accuracy: 0.8934 - val_precision: 0.6356 - val_recall: 0.6410 - val_auc: 0.8834\n",
            "Epoch 56/100\n",
            "38/38 [==============================] - 0s 7ms/step - loss: 3.7245e-05 - tp: 938.2821 - fp: 603.0000 - tn: 8146.8974 - fn: 522.4872 - accuracy: 0.8894 - precision: 0.6093 - recall: 0.6478 - auc: 0.8705 - val_loss: 0.4155 - val_tp: 449.0000 - val_fp: 256.0000 - val_tn: 3828.0000 - val_fn: 253.0000 - val_accuracy: 0.8936 - val_precision: 0.6369 - val_recall: 0.6396 - val_auc: 0.8841\n",
            "Epoch 57/100\n",
            "38/38 [==============================] - 0s 6ms/step - loss: 3.7208e-05 - tp: 958.5385 - fp: 570.3846 - tn: 8181.6410 - fn: 500.1026 - accuracy: 0.8948 - precision: 0.6283 - recall: 0.6478 - auc: 0.8744 - val_loss: 0.4139 - val_tp: 451.0000 - val_fp: 259.0000 - val_tn: 3825.0000 - val_fn: 251.0000 - val_accuracy: 0.8934 - val_precision: 0.6352 - val_recall: 0.6425 - val_auc: 0.8840\n",
            "Epoch 58/100\n",
            "38/38 [==============================] - 0s 7ms/step - loss: 3.6628e-05 - tp: 959.0513 - fp: 603.3333 - tn: 8159.4103 - fn: 488.8718 - accuracy: 0.8935 - precision: 0.6151 - recall: 0.6638 - auc: 0.8737 - val_loss: 0.4129 - val_tp: 451.0000 - val_fp: 255.0000 - val_tn: 3829.0000 - val_fn: 251.0000 - val_accuracy: 0.8943 - val_precision: 0.6388 - val_recall: 0.6425 - val_auc: 0.8864\n",
            "Epoch 59/100\n",
            "38/38 [==============================] - 0s 7ms/step - loss: 3.6711e-05 - tp: 954.0256 - fp: 576.3077 - tn: 8191.9231 - fn: 488.4103 - accuracy: 0.8956 - precision: 0.6179 - recall: 0.6645 - auc: 0.8734 - val_loss: 0.4160 - val_tp: 457.0000 - val_fp: 268.0000 - val_tn: 3816.0000 - val_fn: 245.0000 - val_accuracy: 0.8928 - val_precision: 0.6303 - val_recall: 0.6510 - val_auc: 0.8862\n",
            "Epoch 60/100\n",
            "38/38 [==============================] - 0s 7ms/step - loss: 3.6096e-05 - tp: 958.4615 - fp: 559.9231 - tn: 8208.2051 - fn: 484.0769 - accuracy: 0.8980 - precision: 0.6247 - recall: 0.6629 - auc: 0.8729 - val_loss: 0.4086 - val_tp: 454.0000 - val_fp: 242.0000 - val_tn: 3842.0000 - val_fn: 248.0000 - val_accuracy: 0.8976 - val_precision: 0.6523 - val_recall: 0.6467 - val_auc: 0.8888\n",
            "Epoch 61/100\n",
            "38/38 [==============================] - 0s 7ms/step - loss: 3.6564e-05 - tp: 955.3333 - fp: 533.2821 - tn: 8233.1282 - fn: 488.9231 - accuracy: 0.9005 - precision: 0.6481 - recall: 0.6637 - auc: 0.8712 - val_loss: 0.4037 - val_tp: 453.0000 - val_fp: 232.0000 - val_tn: 3852.0000 - val_fn: 249.0000 - val_accuracy: 0.8995 - val_precision: 0.6613 - val_recall: 0.6453 - val_auc: 0.8900\n",
            "Epoch 62/100\n",
            "38/38 [==============================] - 0s 7ms/step - loss: 3.6151e-05 - tp: 946.9744 - fp: 522.6410 - tn: 8251.7179 - fn: 489.3333 - accuracy: 0.9001 - precision: 0.6414 - recall: 0.6551 - auc: 0.8748 - val_loss: 0.4019 - val_tp: 455.0000 - val_fp: 237.0000 - val_tn: 3847.0000 - val_fn: 247.0000 - val_accuracy: 0.8989 - val_precision: 0.6575 - val_recall: 0.6481 - val_auc: 0.8897\n",
            "Epoch 63/100\n",
            "38/38 [==============================] - 0s 7ms/step - loss: 3.6805e-05 - tp: 977.7436 - fp: 575.9744 - tn: 8166.2564 - fn: 490.6923 - accuracy: 0.8960 - precision: 0.6338 - recall: 0.6627 - auc: 0.8769 - val_loss: 0.3997 - val_tp: 456.0000 - val_fp: 230.0000 - val_tn: 3854.0000 - val_fn: 246.0000 - val_accuracy: 0.9005 - val_precision: 0.6647 - val_recall: 0.6496 - val_auc: 0.8911\n",
            "Epoch 64/100\n",
            "38/38 [==============================] - 0s 7ms/step - loss: 3.5899e-05 - tp: 961.7436 - fp: 514.2308 - tn: 8242.6154 - fn: 492.0769 - accuracy: 0.9005 - precision: 0.6491 - recall: 0.6684 - auc: 0.8830 - val_loss: 0.3969 - val_tp: 456.0000 - val_fp: 232.0000 - val_tn: 3852.0000 - val_fn: 246.0000 - val_accuracy: 0.9001 - val_precision: 0.6628 - val_recall: 0.6496 - val_auc: 0.8925\n",
            "Epoch 65/100\n",
            "38/38 [==============================] - 0s 7ms/step - loss: 3.5470e-05 - tp: 953.4359 - fp: 527.0769 - tn: 8251.2821 - fn: 478.8718 - accuracy: 0.9031 - precision: 0.6462 - recall: 0.6715 - auc: 0.8825 - val_loss: 0.4031 - val_tp: 459.0000 - val_fp: 252.0000 - val_tn: 3832.0000 - val_fn: 243.0000 - val_accuracy: 0.8966 - val_precision: 0.6456 - val_recall: 0.6538 - val_auc: 0.8928\n",
            "Epoch 66/100\n",
            "38/38 [==============================] - 0s 7ms/step - loss: 3.5755e-05 - tp: 969.8718 - fp: 534.4872 - tn: 8236.6667 - fn: 469.6410 - accuracy: 0.9005 - precision: 0.6382 - recall: 0.6735 - auc: 0.8777 - val_loss: 0.3930 - val_tp: 458.0000 - val_fp: 227.0000 - val_tn: 3857.0000 - val_fn: 244.0000 - val_accuracy: 0.9016 - val_precision: 0.6686 - val_recall: 0.6524 - val_auc: 0.8939\n",
            "Epoch 67/100\n",
            "38/38 [==============================] - 0s 7ms/step - loss: 3.5138e-05 - tp: 966.7179 - fp: 485.8718 - tn: 8277.5385 - fn: 480.5385 - accuracy: 0.9059 - precision: 0.6699 - recall: 0.6690 - auc: 0.8874 - val_loss: 0.3919 - val_tp: 459.0000 - val_fp: 219.0000 - val_tn: 3865.0000 - val_fn: 243.0000 - val_accuracy: 0.9035 - val_precision: 0.6770 - val_recall: 0.6538 - val_auc: 0.8960\n",
            "Epoch 68/100\n",
            "38/38 [==============================] - 0s 7ms/step - loss: 3.5210e-05 - tp: 956.7949 - fp: 484.5385 - tn: 8284.4103 - fn: 484.9231 - accuracy: 0.9046 - precision: 0.6584 - recall: 0.6574 - auc: 0.8854 - val_loss: 0.3942 - val_tp: 461.0000 - val_fp: 242.0000 - val_tn: 3842.0000 - val_fn: 241.0000 - val_accuracy: 0.8991 - val_precision: 0.6558 - val_recall: 0.6567 - val_auc: 0.8968\n",
            "Epoch 69/100\n",
            "38/38 [==============================] - 0s 7ms/step - loss: 3.4913e-05 - tp: 973.3590 - fp: 496.0513 - tn: 8272.3333 - fn: 468.9231 - accuracy: 0.9059 - precision: 0.6652 - recall: 0.6837 - auc: 0.8877 - val_loss: 0.3913 - val_tp: 466.0000 - val_fp: 235.0000 - val_tn: 3849.0000 - val_fn: 236.0000 - val_accuracy: 0.9016 - val_precision: 0.6648 - val_recall: 0.6638 - val_auc: 0.8984\n",
            "Epoch 70/100\n",
            "38/38 [==============================] - 0s 7ms/step - loss: 3.4341e-05 - tp: 968.3333 - fp: 504.5897 - tn: 8278.4872 - fn: 459.2564 - accuracy: 0.9063 - precision: 0.6570 - recall: 0.6788 - auc: 0.8879 - val_loss: 0.3904 - val_tp: 467.0000 - val_fp: 232.0000 - val_tn: 3852.0000 - val_fn: 235.0000 - val_accuracy: 0.9024 - val_precision: 0.6681 - val_recall: 0.6652 - val_auc: 0.8983\n",
            "Epoch 71/100\n",
            "38/38 [==============================] - 0s 7ms/step - loss: 3.5133e-05 - tp: 964.6154 - fp: 468.7179 - tn: 8291.6923 - fn: 485.6410 - accuracy: 0.9082 - precision: 0.6818 - recall: 0.6712 - auc: 0.8846 - val_loss: 0.3878 - val_tp: 467.0000 - val_fp: 222.0000 - val_tn: 3862.0000 - val_fn: 235.0000 - val_accuracy: 0.9045 - val_precision: 0.6778 - val_recall: 0.6652 - val_auc: 0.8998\n",
            "Epoch 72/100\n",
            "38/38 [==============================] - 0s 7ms/step - loss: 3.4785e-05 - tp: 982.2308 - fp: 487.0256 - tn: 8271.1282 - fn: 470.2821 - accuracy: 0.9070 - precision: 0.6694 - recall: 0.6766 - auc: 0.8864 - val_loss: 0.3848 - val_tp: 468.0000 - val_fp: 216.0000 - val_tn: 3868.0000 - val_fn: 234.0000 - val_accuracy: 0.9060 - val_precision: 0.6842 - val_recall: 0.6667 - val_auc: 0.9009\n",
            "Epoch 73/100\n",
            "38/38 [==============================] - 0s 7ms/step - loss: 3.4879e-05 - tp: 964.7692 - fp: 463.0000 - tn: 8307.7179 - fn: 475.1795 - accuracy: 0.9065 - precision: 0.6679 - recall: 0.6702 - auc: 0.8876 - val_loss: 0.3850 - val_tp: 472.0000 - val_fp: 223.0000 - val_tn: 3861.0000 - val_fn: 230.0000 - val_accuracy: 0.9053 - val_precision: 0.6791 - val_recall: 0.6724 - val_auc: 0.9001\n",
            "Epoch 74/100\n",
            "38/38 [==============================] - 0s 7ms/step - loss: 3.3762e-05 - tp: 958.6923 - fp: 439.5128 - tn: 8347.8205 - fn: 464.6410 - accuracy: 0.9114 - precision: 0.6823 - recall: 0.6758 - auc: 0.8937 - val_loss: 0.3862 - val_tp: 475.0000 - val_fp: 224.0000 - val_tn: 3860.0000 - val_fn: 227.0000 - val_accuracy: 0.9058 - val_precision: 0.6795 - val_recall: 0.6766 - val_auc: 0.9011\n",
            "Epoch 75/100\n",
            "38/38 [==============================] - 0s 7ms/step - loss: 3.3932e-05 - tp: 984.1282 - fp: 449.5897 - tn: 8329.7179 - fn: 447.2308 - accuracy: 0.9125 - precision: 0.6865 - recall: 0.6935 - auc: 0.8906 - val_loss: 0.3787 - val_tp: 473.0000 - val_fp: 205.0000 - val_tn: 3879.0000 - val_fn: 229.0000 - val_accuracy: 0.9093 - val_precision: 0.6976 - val_recall: 0.6738 - val_auc: 0.9018\n",
            "Epoch 76/100\n",
            "38/38 [==============================] - 0s 7ms/step - loss: 3.4805e-05 - tp: 1000.1538 - fp: 471.5897 - tn: 8282.8974 - fn: 456.0256 - accuracy: 0.9094 - precision: 0.6859 - recall: 0.6883 - auc: 0.8898 - val_loss: 0.3797 - val_tp: 476.0000 - val_fp: 208.0000 - val_tn: 3876.0000 - val_fn: 226.0000 - val_accuracy: 0.9093 - val_precision: 0.6959 - val_recall: 0.6781 - val_auc: 0.9032\n",
            "Epoch 77/100\n",
            "38/38 [==============================] - 0s 7ms/step - loss: 3.3911e-05 - tp: 971.6410 - fp: 447.3846 - tn: 8318.2051 - fn: 473.4359 - accuracy: 0.9080 - precision: 0.6779 - recall: 0.6764 - auc: 0.8953 - val_loss: 0.3784 - val_tp: 475.0000 - val_fp: 203.0000 - val_tn: 3881.0000 - val_fn: 227.0000 - val_accuracy: 0.9102 - val_precision: 0.7006 - val_recall: 0.6766 - val_auc: 0.9046\n",
            "Epoch 78/100\n",
            "38/38 [==============================] - 0s 7ms/step - loss: 3.3531e-05 - tp: 1018.3333 - fp: 474.1026 - tn: 8276.4359 - fn: 441.7949 - accuracy: 0.9115 - precision: 0.6905 - recall: 0.7048 - auc: 0.9041 - val_loss: 0.3692 - val_tp: 471.0000 - val_fp: 195.0000 - val_tn: 3889.0000 - val_fn: 231.0000 - val_accuracy: 0.9110 - val_precision: 0.7072 - val_recall: 0.6709 - val_auc: 0.9055\n",
            "Epoch 79/100\n",
            "38/38 [==============================] - 0s 6ms/step - loss: 3.3408e-05 - tp: 979.8974 - fp: 407.5897 - tn: 8365.5897 - fn: 457.5897 - accuracy: 0.9151 - precision: 0.7063 - recall: 0.6796 - auc: 0.9016 - val_loss: 0.3691 - val_tp: 475.0000 - val_fp: 201.0000 - val_tn: 3883.0000 - val_fn: 227.0000 - val_accuracy: 0.9106 - val_precision: 0.7027 - val_recall: 0.6766 - val_auc: 0.9052\n",
            "Epoch 80/100\n",
            "38/38 [==============================] - 0s 7ms/step - loss: 3.4088e-05 - tp: 997.9231 - fp: 470.5897 - tn: 8282.5128 - fn: 459.6410 - accuracy: 0.9080 - precision: 0.6777 - recall: 0.6857 - auc: 0.8914 - val_loss: 0.3662 - val_tp: 471.0000 - val_fp: 192.0000 - val_tn: 3892.0000 - val_fn: 231.0000 - val_accuracy: 0.9116 - val_precision: 0.7104 - val_recall: 0.6709 - val_auc: 0.9067\n",
            "Epoch 81/100\n",
            "38/38 [==============================] - 0s 7ms/step - loss: 3.3186e-05 - tp: 984.0256 - fp: 396.1538 - tn: 8374.7436 - fn: 455.7436 - accuracy: 0.9165 - precision: 0.7119 - recall: 0.6831 - auc: 0.8979 - val_loss: 0.3698 - val_tp: 475.0000 - val_fp: 203.0000 - val_tn: 3881.0000 - val_fn: 227.0000 - val_accuracy: 0.9102 - val_precision: 0.7006 - val_recall: 0.6766 - val_auc: 0.9075\n",
            "Epoch 82/100\n",
            "38/38 [==============================] - 0s 6ms/step - loss: 3.3332e-05 - tp: 1000.0256 - fp: 433.9487 - tn: 8332.0000 - fn: 444.6923 - accuracy: 0.9130 - precision: 0.6917 - recall: 0.6886 - auc: 0.8966 - val_loss: 0.3647 - val_tp: 475.0000 - val_fp: 191.0000 - val_tn: 3893.0000 - val_fn: 227.0000 - val_accuracy: 0.9127 - val_precision: 0.7132 - val_recall: 0.6766 - val_auc: 0.9093\n",
            "Epoch 83/100\n",
            "38/38 [==============================] - 0s 6ms/step - loss: 3.3487e-05 - tp: 1001.4359 - fp: 408.8462 - tn: 8355.1538 - fn: 445.2308 - accuracy: 0.9171 - precision: 0.7135 - recall: 0.6909 - auc: 0.9001 - val_loss: 0.3646 - val_tp: 477.0000 - val_fp: 191.0000 - val_tn: 3893.0000 - val_fn: 225.0000 - val_accuracy: 0.9131 - val_precision: 0.7141 - val_recall: 0.6795 - val_auc: 0.9109\n",
            "Epoch 84/100\n",
            "38/38 [==============================] - 0s 7ms/step - loss: 3.4041e-05 - tp: 1007.6410 - fp: 396.2308 - tn: 8359.7692 - fn: 447.0256 - accuracy: 0.9172 - precision: 0.7227 - recall: 0.6910 - auc: 0.8932 - val_loss: 0.3591 - val_tp: 475.0000 - val_fp: 184.0000 - val_tn: 3900.0000 - val_fn: 227.0000 - val_accuracy: 0.9141 - val_precision: 0.7208 - val_recall: 0.6766 - val_auc: 0.9106\n",
            "Epoch 85/100\n",
            "38/38 [==============================] - 0s 7ms/step - loss: 3.2896e-05 - tp: 970.1538 - fp: 398.3590 - tn: 8383.8462 - fn: 458.3077 - accuracy: 0.9150 - precision: 0.6969 - recall: 0.6751 - auc: 0.8983 - val_loss: 0.3655 - val_tp: 479.0000 - val_fp: 197.0000 - val_tn: 3887.0000 - val_fn: 223.0000 - val_accuracy: 0.9122 - val_precision: 0.7086 - val_recall: 0.6823 - val_auc: 0.9104\n",
            "Epoch 86/100\n",
            "38/38 [==============================] - 0s 6ms/step - loss: 3.2262e-05 - tp: 985.4872 - fp: 392.2051 - tn: 8402.0000 - fn: 430.9744 - accuracy: 0.9208 - precision: 0.7138 - recall: 0.7075 - auc: 0.8995 - val_loss: 0.3662 - val_tp: 481.0000 - val_fp: 198.0000 - val_tn: 3886.0000 - val_fn: 221.0000 - val_accuracy: 0.9125 - val_precision: 0.7084 - val_recall: 0.6852 - val_auc: 0.9127\n",
            "Epoch 87/100\n",
            "38/38 [==============================] - 0s 6ms/step - loss: 3.3660e-05 - tp: 996.0256 - fp: 387.5385 - tn: 8379.1282 - fn: 447.9744 - accuracy: 0.9163 - precision: 0.7146 - recall: 0.6855 - auc: 0.8915 - val_loss: 0.3630 - val_tp: 481.0000 - val_fp: 186.0000 - val_tn: 3898.0000 - val_fn: 221.0000 - val_accuracy: 0.9150 - val_precision: 0.7211 - val_recall: 0.6852 - val_auc: 0.9137\n",
            "Epoch 88/100\n",
            "38/38 [==============================] - 0s 7ms/step - loss: 3.2373e-05 - tp: 1014.3077 - fp: 401.3846 - tn: 8359.7949 - fn: 435.1795 - accuracy: 0.9190 - precision: 0.7215 - recall: 0.7037 - auc: 0.9013 - val_loss: 0.3595 - val_tp: 480.0000 - val_fp: 181.0000 - val_tn: 3903.0000 - val_fn: 222.0000 - val_accuracy: 0.9158 - val_precision: 0.7262 - val_recall: 0.6838 - val_auc: 0.9146\n",
            "Epoch 89/100\n",
            "38/38 [==============================] - 0s 8ms/step - loss: 3.2415e-05 - tp: 1004.4103 - fp: 395.0256 - tn: 8383.4872 - fn: 427.7436 - accuracy: 0.9196 - precision: 0.7196 - recall: 0.6980 - auc: 0.9021 - val_loss: 0.3603 - val_tp: 486.0000 - val_fp: 181.0000 - val_tn: 3903.0000 - val_fn: 216.0000 - val_accuracy: 0.9170 - val_precision: 0.7286 - val_recall: 0.6923 - val_auc: 0.9156\n",
            "Epoch 90/100\n",
            "38/38 [==============================] - 0s 7ms/step - loss: 3.2627e-05 - tp: 1016.9231 - fp: 394.2051 - tn: 8375.6154 - fn: 423.9231 - accuracy: 0.9190 - precision: 0.7213 - recall: 0.7024 - auc: 0.9016 - val_loss: 0.3503 - val_tp: 480.0000 - val_fp: 164.0000 - val_tn: 3920.0000 - val_fn: 222.0000 - val_accuracy: 0.9193 - val_precision: 0.7453 - val_recall: 0.6838 - val_auc: 0.9174\n",
            "Epoch 91/100\n",
            "38/38 [==============================] - 0s 7ms/step - loss: 3.2889e-05 - tp: 1032.2821 - fp: 396.0256 - tn: 8346.9487 - fn: 435.4103 - accuracy: 0.9191 - precision: 0.7323 - recall: 0.7006 - auc: 0.9052 - val_loss: 0.3471 - val_tp: 482.0000 - val_fp: 164.0000 - val_tn: 3920.0000 - val_fn: 220.0000 - val_accuracy: 0.9198 - val_precision: 0.7461 - val_recall: 0.6866 - val_auc: 0.9179\n",
            "Epoch 92/100\n",
            "38/38 [==============================] - 0s 7ms/step - loss: 3.1698e-05 - tp: 1018.8974 - fp: 363.7692 - tn: 8402.3590 - fn: 425.6410 - accuracy: 0.9238 - precision: 0.7358 - recall: 0.7109 - auc: 0.9116 - val_loss: 0.3575 - val_tp: 493.0000 - val_fp: 185.0000 - val_tn: 3899.0000 - val_fn: 209.0000 - val_accuracy: 0.9177 - val_precision: 0.7271 - val_recall: 0.7023 - val_auc: 0.9180\n",
            "Epoch 93/100\n",
            "38/38 [==============================] - 0s 7ms/step - loss: 3.1748e-05 - tp: 1017.2821 - fp: 378.5385 - tn: 8379.4615 - fn: 435.3846 - accuracy: 0.9200 - precision: 0.7290 - recall: 0.7022 - auc: 0.9087 - val_loss: 0.3480 - val_tp: 488.0000 - val_fp: 169.0000 - val_tn: 3915.0000 - val_fn: 214.0000 - val_accuracy: 0.9200 - val_precision: 0.7428 - val_recall: 0.6952 - val_auc: 0.9189\n",
            "Epoch 94/100\n",
            "38/38 [==============================] - 0s 7ms/step - loss: 3.1940e-05 - tp: 1025.1026 - fp: 399.1026 - tn: 8365.6410 - fn: 420.8205 - accuracy: 0.9181 - precision: 0.7159 - recall: 0.7065 - auc: 0.9102 - val_loss: 0.3482 - val_tp: 490.0000 - val_fp: 163.0000 - val_tn: 3921.0000 - val_fn: 212.0000 - val_accuracy: 0.9216 - val_precision: 0.7504 - val_recall: 0.6980 - val_auc: 0.9196\n",
            "Epoch 95/100\n",
            "38/38 [==============================] - 0s 8ms/step - loss: 3.2034e-05 - tp: 1037.4615 - fp: 390.8718 - tn: 8373.4872 - fn: 408.8462 - accuracy: 0.9226 - precision: 0.7257 - recall: 0.7128 - auc: 0.9030 - val_loss: 0.3463 - val_tp: 490.0000 - val_fp: 159.0000 - val_tn: 3925.0000 - val_fn: 212.0000 - val_accuracy: 0.9225 - val_precision: 0.7550 - val_recall: 0.6980 - val_auc: 0.9217\n",
            "Epoch 96/100\n",
            "38/38 [==============================] - 0s 7ms/step - loss: 3.1738e-05 - tp: 1031.8974 - fp: 357.8205 - tn: 8398.4103 - fn: 422.5385 - accuracy: 0.9232 - precision: 0.7397 - recall: 0.7082 - auc: 0.9074 - val_loss: 0.3397 - val_tp: 487.0000 - val_fp: 148.0000 - val_tn: 3936.0000 - val_fn: 215.0000 - val_accuracy: 0.9242 - val_precision: 0.7669 - val_recall: 0.6937 - val_auc: 0.9217\n",
            "Epoch 97/100\n",
            "38/38 [==============================] - 0s 7ms/step - loss: 3.2340e-05 - tp: 1028.0000 - fp: 332.6154 - tn: 8422.0000 - fn: 428.0513 - accuracy: 0.9251 - precision: 0.7566 - recall: 0.6982 - auc: 0.9081 - val_loss: 0.3399 - val_tp: 491.0000 - val_fp: 149.0000 - val_tn: 3935.0000 - val_fn: 211.0000 - val_accuracy: 0.9248 - val_precision: 0.7672 - val_recall: 0.6994 - val_auc: 0.9218\n",
            "Epoch 98/100\n",
            "38/38 [==============================] - 0s 7ms/step - loss: 3.1969e-05 - tp: 1027.7692 - fp: 368.2051 - tn: 8393.5641 - fn: 421.1282 - accuracy: 0.9227 - precision: 0.7376 - recall: 0.7097 - auc: 0.9074 - val_loss: 0.3323 - val_tp: 485.0000 - val_fp: 130.0000 - val_tn: 3954.0000 - val_fn: 217.0000 - val_accuracy: 0.9275 - val_precision: 0.7886 - val_recall: 0.6909 - val_auc: 0.9248\n",
            "Epoch 99/100\n",
            "38/38 [==============================] - 0s 7ms/step - loss: 3.1648e-05 - tp: 1031.1026 - fp: 330.6154 - tn: 8429.9744 - fn: 418.9744 - accuracy: 0.9264 - precision: 0.7616 - recall: 0.7095 - auc: 0.9089 - val_loss: 0.3364 - val_tp: 491.0000 - val_fp: 144.0000 - val_tn: 3940.0000 - val_fn: 211.0000 - val_accuracy: 0.9258 - val_precision: 0.7732 - val_recall: 0.6994 - val_auc: 0.9235\n",
            "Epoch 100/100\n",
            "38/38 [==============================] - 0s 7ms/step - loss: 3.0234e-05 - tp: 1037.4359 - fp: 330.4103 - tn: 8446.7436 - fn: 396.0769 - accuracy: 0.9295 - precision: 0.7578 - recall: 0.7274 - auc: 0.9195 - val_loss: 0.3411 - val_tp: 499.0000 - val_fp: 153.0000 - val_tn: 3931.0000 - val_fn: 203.0000 - val_accuracy: 0.9256 - val_precision: 0.7653 - val_recall: 0.7108 - val_auc: 0.9250\n"
          ],
          "name": "stdout"
        }
      ]
    },
    {
      "cell_type": "code",
      "metadata": {
        "colab": {
          "base_uri": "https://localhost:8080/",
          "height": 609
        },
        "id": "0e6g27tOr_al",
        "outputId": "1bb5ec5c-ead5-478d-ca52-5f67094223aa"
      },
      "source": [
        "mpl.rcParams['figure.figsize'] = (12, 10)\n",
        "colors = plt.rcParams['axes.prop_cycle'].by_key()['color']\n",
        "\n",
        "def plot_metrics(history):\n",
        "  metrics =  ['loss', 'auc', 'precision', 'recall']\n",
        "  for n, metric in enumerate(metrics):\n",
        "    name = metric.replace(\"_\",\" \").capitalize()\n",
        "    plt.subplot(2,2,n+1)\n",
        "    plt.plot(history.epoch,  history.history[metric], color=colors[0], label='Train')\n",
        "    plt.plot(history.epoch, history.history['val_'+metric],\n",
        "             color=colors[0], linestyle=\"--\", label='Val')\n",
        "    plt.xlabel('Epoch')\n",
        "    plt.ylabel(name)\n",
        "    if metric == 'loss':\n",
        "      plt.ylim([0, plt.ylim()[1]])\n",
        "    elif metric == 'auc':\n",
        "      plt.ylim([0.8,1])\n",
        "    else:\n",
        "      plt.ylim([0,1])\n",
        "\n",
        "    plt.legend()\n",
        "\n",
        "plot_metrics(results)"
      ],
      "execution_count": 27,
      "outputs": [
        {
          "output_type": "display_data",
          "data": {
            "image/png": "[encoded data removed]",
            "text/plain": [
              "<Figure size 864x720 with 4 Axes>"
            ]
          },
          "metadata": {
            "tags": [],
            "needs_background": "light"
          }
        }
      ]
    },
    {
      "cell_type": "code",
      "metadata": {
        "id": "sXlJyyCFsT6S"
      },
      "source": [
        "predicted = model.predict(test_set)\n",
        "\n",
        "y_pred = []\n",
        "\n",
        "for i in predicted.tolist():\n",
        "  y_pred.append(int(round(i[0])))"
      ],
      "execution_count": 28,
      "outputs": []
    },
    {
      "cell_type": "code",
      "metadata": {
        "colab": {
          "base_uri": "https://localhost:8080/"
        },
        "id": "P_AjWZxcsUV0",
        "outputId": "68c4c25f-42b0-47d9-ebee-ce57f0e1976b"
      },
      "source": [
        "cm = confusion_matrix(test_labels.values, y_pred)\n",
        "print(cm)"
      ],
      "execution_count": 29,
      "outputs": [
        {
          "output_type": "stream",
          "text": [
            "[[3931  153]\n",
            " [ 203  499]]\n"
          ],
          "name": "stdout"
        }
      ]
    },
    {
      "cell_type": "code",
      "metadata": {
        "id": "zt2zmiYssWZi"
      },
      "source": [
        "def plot_confusion_matrix(cm, classes,\n",
        "                          normalize=False,\n",
        "                          title='Confusion matrix',\n",
        "                          cmap=plt.cm.Blues):\n",
        "    \"\"\"\n",
        "    This function prints and plots the confusion matrix.\n",
        "    Normalization can be applied by setting `normalize=True`.\n",
        "    \"\"\"\n",
        "    plt.imshow(cm, interpolation='nearest', cmap=cmap)\n",
        "    plt.title(title)\n",
        "    plt.colorbar()\n",
        "    tick_marks = np.arange(len(classes))\n",
        "    plt.xticks(tick_marks, classes, rotation=45)\n",
        "    plt.yticks(tick_marks, classes)\n",
        "\n",
        "    if normalize:\n",
        "        cm = np.round(cm.astype('float') / cm.sum(axis=1)[:, np.newaxis], 3)\n",
        "\n",
        "    thresh = cm.max() / 2.\n",
        "    for i, j in itertools.product(range(cm.shape[0]), range(cm.shape[1])):\n",
        "        plt.text(j, i, cm[i, j],\n",
        "                 horizontalalignment=\"center\",\n",
        "                 color=\"white\" if cm[i, j] > thresh else \"black\")\n",
        "\n",
        "    plt.tight_layout()\n",
        "    plt.ylabel('True label')\n",
        "    plt.xlabel('Predicted label')"
      ],
      "execution_count": 31,
      "outputs": []
    },
    {
      "cell_type": "code",
      "metadata": {
        "colab": {
          "base_uri": "https://localhost:8080/",
          "height": 739
        },
        "id": "JEcB7FUWsdrf",
        "outputId": "eb3b5f61-165e-4cf5-e2bb-45eea9bb3c0a"
      },
      "source": [
        "classes = ['not fraud', 'fraud']\n",
        "plot_confusion_matrix(cm, classes, normalize=True)"
      ],
      "execution_count": 32,
      "outputs": [
        {
          "output_type": "display_data",
          "data": {
            "image/png": "[encoded data removed]",
            "text/plain": [
              "<Figure size 864x720 with 2 Axes>"
            ]
          },
          "metadata": {
            "tags": [],
            "needs_background": "light"
          }
        }
      ]
    },
    {
      "cell_type": "markdown",
      "metadata": {
        "id": "SI_NzDRawLxq"
      },
      "source": [
        "**Explainable SDK**"
      ]
    },
    {
      "cell_type": "code",
      "metadata": {
        "id": "dkokKzd2wGJA"
      },
      "source": [
        "# exporting the trained model\n",
        "model_dir = 'fraud_model'\n",
        "tf.saved_model.save(model, model_dir)\n",
        "\n",
        "#get explanation metadata with SDK\n",
        "model_builder = SavedModelMetadataBuilder(model_dir)\n",
        "metadata = model_builder.get_metadata()\n",
        "print(metadata)\n",
        "\n",
        "#specify our model baselines\n",
        "'''\n",
        "For tabular data the Explainable AI service words by returning attribution values for each feature.\n",
        "These values indicate how much a particular feature affected to a prediction\n",
        "\n",
        "When we say this particular feature cause a improvement in fraud probability by 2% then we might have a question of what exactly \n",
        "is the baseline\n",
        "\n",
        "So baseline is something that we what we compare against. We select the baseline values for eacch feature in our model and the baseline \n",
        "prediction consequently becomes the values our model predict when the features are set at the baseline\n",
        "\n",
        "Baseline selection depends on what the problem statement\n",
        "For numerical features it is common to use median value\n",
        "We care most about explaining the cases when our model labels a transaction as fraudulent.\n",
        "That means the baseline case we want to compare against is non-fraudulent transactions.\n",
        "\n",
        "To account for this, we'll use the median values of the non-fraudulent transactions in our dataset as the baseline.\n",
        "We can get the median by using the not_fraud_sample DataFrame we extracted above, and scaling it to match our model's expected inputs:\n",
        "'''\n",
        "\n",
        "not_fraud_sample = not_fraud_sample.drop(columns=['nameOrig', 'nameDest', 'isFlaggedFraud', 'isFraud'])\n",
        "\n",
        "baseline = scaler.transform(not_fraud_sample.values)\n",
        "baseline = np.clip(baseline, -5, 5)\n",
        "baseline_values = np.median(baseline, axis=0)\n",
        "\n",
        "input_name = list(metadata['inputs'])[0]\n",
        "model_builder.set_numeric_metadata(input_name, input_baselines=[baseline_values.tolist()], index_feature_mapping=df.columns.tolist()[:6])\n",
        "model_builder.save_metadata(model_dir)\n",
        "\n",
        "'''\n",
        "Running the save_metadata() method above created a file in our model's directory called explanation_metadata.json. \n",
        "'''\n",
        "local_model = explainable_ai_sdk.load_model_from_local_path(\n",
        "    model_dir, \n",
        "    explainable_ai_sdk.SampledShapleyConfig()\n",
        ")\n",
        "\n",
        "fraud_example = [0.722,0.139,-0.114,-0.258,-0.271,-0.305]\n",
        "response = local_model.explain([{input_name: fraud_example}])\n",
        "response[0].visualize_attributions()\n"
      ],
      "execution_count": null,
      "outputs": []
    },
    {
      "cell_type": "markdown",
      "metadata": {
        "id": "QT5SFe1J1mdk"
      },
      "source": [
        "![Screenshot 2021-05-06 at 6.50.37 PM.png](data:image/png;base64,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)"
      ]
    },
    {
      "cell_type": "markdown",
      "metadata": {
        "id": "KMHUnDBC11qi"
      },
      "source": [
        "There is lots more you can do with Explainable AI on this model. Some ideas include:\n",
        "\n",
        "Sending many examples to our model and averaging the attribution values to see if certain features are more important overall. We could use this to improve our model, and potentially remove features that aren't important\n",
        "Finding false positives that our model flags as fraud but are non-fraudulent transactions, and examining their attribution values\n",
        "Use a different baseline and see how this impacts the attribution values"
      ]
    }
  ]
}